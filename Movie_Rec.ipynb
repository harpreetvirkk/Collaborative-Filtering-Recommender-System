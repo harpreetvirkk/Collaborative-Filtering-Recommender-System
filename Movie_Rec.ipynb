{
  "nbformat": 4,
  "nbformat_minor": 0,
  "metadata": {
    "colab": {
      "name": "Movie_Rec.ipynb",
      "provenance": [],
      "machine_shape": "hm"
    },
    "kernelspec": {
      "name": "python3",
      "display_name": "Python 3"
    },
    "accelerator": "GPU"
  },
  "cells": [
    {
      "cell_type": "markdown",
      "metadata": {
        "id": "0PKhwuXgNFDZ",
        "colab_type": "text"
      },
      "source": [
        "# **Movie Recommender System using Neural Network Embeddings**"
      ]
    },
    {
      "cell_type": "markdown",
      "metadata": {
        "id": "0p-sAvQaOpYO",
        "colab_type": "text"
      },
      "source": [
        "#### **Presented By: Harpreet Virk**\n",
        "#### **May 8th, 2020**\n",
        "#### **Prof. Ravi Kothari, Advanced Machine Learning, Ashoka University**"
      ]
    },
    {
      "cell_type": "markdown",
      "metadata": {
        "id": "0jouCdHhOt-j",
        "colab_type": "text"
      },
      "source": [
        "**Motive:**\n",
        "In this project, we will build a Movie Recommendation System using Embeddings that Neural Networks produce. We will be using the MovieLens 20M dataset for the purpose. "
      ]
    },
    {
      "cell_type": "markdown",
      "metadata": {
        "id": "tHILwJ6VfM4u",
        "colab_type": "text"
      },
      "source": [
        "**Dataset:** We will be using the MovieLens 20M dataset available from grouplens (https://grouplens.org/datasets/movielens/). This dataset contains 20 million ratings and 465, 000 tag applications applied to 27, 000 movies by 138, 000 users.\n",
        "\n",
        "\n",
        "\n"
      ]
    },
    {
      "cell_type": "markdown",
      "metadata": {
        "id": "NII-dKu8hbVb",
        "colab_type": "text"
      },
      "source": [
        "### **Procedure:**"
      ]
    },
    {
      "cell_type": "markdown",
      "metadata": {
        "id": "5QnGLYavhmHK",
        "colab_type": "text"
      },
      "source": [
        "**Reading the data:** To read the MovieLens data from google drive, we will first have to google drive. We will be using Pandas read_csv() function to read our csv files. "
      ]
    },
    {
      "cell_type": "code",
      "metadata": {
        "id": "EmOo5luQhjmP",
        "colab_type": "code",
        "outputId": "f57a2c9c-a7bc-432f-ff0b-df7c4c44a2ce",
        "colab": {
          "base_uri": "https://localhost:8080/",
          "height": 122
        }
      },
      "source": [
        "from google.colab import drive\n",
        "drive.mount('/content/gdrive')"
      ],
      "execution_count": 0,
      "outputs": [
        {
          "output_type": "stream",
          "text": [
            "Go to this URL in a browser: https://accounts.google.com/o/oauth2/auth?client_id=947318989803-6bn6qk8qdgf4n4g3pfee6491hc0brc4i.apps.googleusercontent.com&redirect_uri=urn%3aietf%3awg%3aoauth%3a2.0%3aoob&response_type=code&scope=email%20https%3a%2f%2fwww.googleapis.com%2fauth%2fdocs.test%20https%3a%2f%2fwww.googleapis.com%2fauth%2fdrive%20https%3a%2f%2fwww.googleapis.com%2fauth%2fdrive.photos.readonly%20https%3a%2f%2fwww.googleapis.com%2fauth%2fpeopleapi.readonly\n",
            "\n",
            "Enter your authorization code:\n",
            "··········\n",
            "Mounted at /content/gdrive\n"
          ],
          "name": "stdout"
        }
      ]
    },
    {
      "cell_type": "code",
      "metadata": {
        "id": "cmfGc_kfh9tg",
        "colab_type": "code",
        "outputId": "c52f116e-a030-4474-d7dc-54cb19e4254a",
        "colab": {
          "base_uri": "https://localhost:8080/",
          "height": 204
        }
      },
      "source": [
        "import pandas as pd\n",
        "ratings_df=pd.read_csv('gdrive/My Drive/MovieLens/ml-20m/ratings.csv').loc[:,[\"userId\",\"movieId\",\"rating\"]]\n",
        "ratings_df.head()"
      ],
      "execution_count": 0,
      "outputs": [
        {
          "output_type": "execute_result",
          "data": {
            "text/html": [
              "<div>\n",
              "<style scoped>\n",
              "    .dataframe tbody tr th:only-of-type {\n",
              "        vertical-align: middle;\n",
              "    }\n",
              "\n",
              "    .dataframe tbody tr th {\n",
              "        vertical-align: top;\n",
              "    }\n",
              "\n",
              "    .dataframe thead th {\n",
              "        text-align: right;\n",
              "    }\n",
              "</style>\n",
              "<table border=\"1\" class=\"dataframe\">\n",
              "  <thead>\n",
              "    <tr style=\"text-align: right;\">\n",
              "      <th></th>\n",
              "      <th>userId</th>\n",
              "      <th>movieId</th>\n",
              "      <th>rating</th>\n",
              "    </tr>\n",
              "  </thead>\n",
              "  <tbody>\n",
              "    <tr>\n",
              "      <th>0</th>\n",
              "      <td>1</td>\n",
              "      <td>2</td>\n",
              "      <td>3.5</td>\n",
              "    </tr>\n",
              "    <tr>\n",
              "      <th>1</th>\n",
              "      <td>1</td>\n",
              "      <td>29</td>\n",
              "      <td>3.5</td>\n",
              "    </tr>\n",
              "    <tr>\n",
              "      <th>2</th>\n",
              "      <td>1</td>\n",
              "      <td>32</td>\n",
              "      <td>3.5</td>\n",
              "    </tr>\n",
              "    <tr>\n",
              "      <th>3</th>\n",
              "      <td>1</td>\n",
              "      <td>47</td>\n",
              "      <td>3.5</td>\n",
              "    </tr>\n",
              "    <tr>\n",
              "      <th>4</th>\n",
              "      <td>1</td>\n",
              "      <td>50</td>\n",
              "      <td>3.5</td>\n",
              "    </tr>\n",
              "  </tbody>\n",
              "</table>\n",
              "</div>"
            ],
            "text/plain": [
              "   userId  movieId  rating\n",
              "0       1        2     3.5\n",
              "1       1       29     3.5\n",
              "2       1       32     3.5\n",
              "3       1       47     3.5\n",
              "4       1       50     3.5"
            ]
          },
          "metadata": {
            "tags": []
          },
          "execution_count": 3
        }
      ]
    },
    {
      "cell_type": "code",
      "metadata": {
        "id": "Au0EvNsToI2i",
        "colab_type": "code",
        "outputId": "2fb0a398-a62b-4acb-e5a7-f5d59bc00397",
        "colab": {
          "base_uri": "https://localhost:8080/",
          "height": 419
        }
      },
      "source": [
        "movie_df=pd.read_csv('gdrive/My Drive/MovieLens/ml-20m/movies.csv' )\n",
        "movie_df"
      ],
      "execution_count": 0,
      "outputs": [
        {
          "output_type": "execute_result",
          "data": {
            "text/html": [
              "<div>\n",
              "<style scoped>\n",
              "    .dataframe tbody tr th:only-of-type {\n",
              "        vertical-align: middle;\n",
              "    }\n",
              "\n",
              "    .dataframe tbody tr th {\n",
              "        vertical-align: top;\n",
              "    }\n",
              "\n",
              "    .dataframe thead th {\n",
              "        text-align: right;\n",
              "    }\n",
              "</style>\n",
              "<table border=\"1\" class=\"dataframe\">\n",
              "  <thead>\n",
              "    <tr style=\"text-align: right;\">\n",
              "      <th></th>\n",
              "      <th>movieId</th>\n",
              "      <th>title</th>\n",
              "      <th>genres</th>\n",
              "    </tr>\n",
              "  </thead>\n",
              "  <tbody>\n",
              "    <tr>\n",
              "      <th>0</th>\n",
              "      <td>1</td>\n",
              "      <td>Toy Story (1995)</td>\n",
              "      <td>Adventure|Animation|Children|Comedy|Fantasy</td>\n",
              "    </tr>\n",
              "    <tr>\n",
              "      <th>1</th>\n",
              "      <td>2</td>\n",
              "      <td>Jumanji (1995)</td>\n",
              "      <td>Adventure|Children|Fantasy</td>\n",
              "    </tr>\n",
              "    <tr>\n",
              "      <th>2</th>\n",
              "      <td>3</td>\n",
              "      <td>Grumpier Old Men (1995)</td>\n",
              "      <td>Comedy|Romance</td>\n",
              "    </tr>\n",
              "    <tr>\n",
              "      <th>3</th>\n",
              "      <td>4</td>\n",
              "      <td>Waiting to Exhale (1995)</td>\n",
              "      <td>Comedy|Drama|Romance</td>\n",
              "    </tr>\n",
              "    <tr>\n",
              "      <th>4</th>\n",
              "      <td>5</td>\n",
              "      <td>Father of the Bride Part II (1995)</td>\n",
              "      <td>Comedy</td>\n",
              "    </tr>\n",
              "    <tr>\n",
              "      <th>...</th>\n",
              "      <td>...</td>\n",
              "      <td>...</td>\n",
              "      <td>...</td>\n",
              "    </tr>\n",
              "    <tr>\n",
              "      <th>27273</th>\n",
              "      <td>131254</td>\n",
              "      <td>Kein Bund für's Leben (2007)</td>\n",
              "      <td>Comedy</td>\n",
              "    </tr>\n",
              "    <tr>\n",
              "      <th>27274</th>\n",
              "      <td>131256</td>\n",
              "      <td>Feuer, Eis &amp; Dosenbier (2002)</td>\n",
              "      <td>Comedy</td>\n",
              "    </tr>\n",
              "    <tr>\n",
              "      <th>27275</th>\n",
              "      <td>131258</td>\n",
              "      <td>The Pirates (2014)</td>\n",
              "      <td>Adventure</td>\n",
              "    </tr>\n",
              "    <tr>\n",
              "      <th>27276</th>\n",
              "      <td>131260</td>\n",
              "      <td>Rentun Ruusu (2001)</td>\n",
              "      <td>(no genres listed)</td>\n",
              "    </tr>\n",
              "    <tr>\n",
              "      <th>27277</th>\n",
              "      <td>131262</td>\n",
              "      <td>Innocence (2014)</td>\n",
              "      <td>Adventure|Fantasy|Horror</td>\n",
              "    </tr>\n",
              "  </tbody>\n",
              "</table>\n",
              "<p>27278 rows × 3 columns</p>\n",
              "</div>"
            ],
            "text/plain": [
              "       movieId  ...                                       genres\n",
              "0            1  ...  Adventure|Animation|Children|Comedy|Fantasy\n",
              "1            2  ...                   Adventure|Children|Fantasy\n",
              "2            3  ...                               Comedy|Romance\n",
              "3            4  ...                         Comedy|Drama|Romance\n",
              "4            5  ...                                       Comedy\n",
              "...        ...  ...                                          ...\n",
              "27273   131254  ...                                       Comedy\n",
              "27274   131256  ...                                       Comedy\n",
              "27275   131258  ...                                    Adventure\n",
              "27276   131260  ...                           (no genres listed)\n",
              "27277   131262  ...                     Adventure|Fantasy|Horror\n",
              "\n",
              "[27278 rows x 3 columns]"
            ]
          },
          "metadata": {
            "tags": []
          },
          "execution_count": 4
        }
      ]
    },
    {
      "cell_type": "markdown",
      "metadata": {
        "id": "BKRnUIFVrtWG",
        "colab_type": "text"
      },
      "source": [
        "**Data Statistics:**"
      ]
    },
    {
      "cell_type": "code",
      "metadata": {
        "id": "EhxNcjZ0rnbh",
        "colab_type": "code",
        "outputId": "f59aadd7-0a69-4f09-8395-9e3fd0058d51",
        "colab": {
          "base_uri": "https://localhost:8080/",
          "height": 68
        }
      },
      "source": [
        "n_users = len(ratings_df.userId.unique())\n",
        "n_movies = len(ratings_df.movieId.unique())\n",
        "print(\"No of unique users:\", n_users)\n",
        "print(\"No of unique movies: \", n_movies, \"\\n\")"
      ],
      "execution_count": 0,
      "outputs": [
        {
          "output_type": "stream",
          "text": [
            "No of unique users: 138493\n",
            "No of unique movies:  26744 \n",
            "\n"
          ],
          "name": "stdout"
        }
      ]
    },
    {
      "cell_type": "markdown",
      "metadata": {
        "id": "W6JVi0MMoloM",
        "colab_type": "text"
      },
      "source": [
        "**Data Preprocessing:** "
      ]
    },
    {
      "cell_type": "markdown",
      "metadata": {
        "id": "67anbD4wo-H-",
        "colab_type": "text"
      },
      "source": [
        "Let's first observe the number of ratings that each movie has received:"
      ]
    },
    {
      "cell_type": "code",
      "metadata": {
        "id": "hNQmNcxGpKMl",
        "colab_type": "code",
        "outputId": "dbaaf3a0-b4ba-4fda-9241-edae6aad341f",
        "colab": {
          "base_uri": "https://localhost:8080/",
          "height": 450
        }
      },
      "source": [
        "rating_count = ratings_df[['movieId','rating']].groupby(['movieId']).count()\n",
        "rating_count"
      ],
      "execution_count": 0,
      "outputs": [
        {
          "output_type": "execute_result",
          "data": {
            "text/html": [
              "<div>\n",
              "<style scoped>\n",
              "    .dataframe tbody tr th:only-of-type {\n",
              "        vertical-align: middle;\n",
              "    }\n",
              "\n",
              "    .dataframe tbody tr th {\n",
              "        vertical-align: top;\n",
              "    }\n",
              "\n",
              "    .dataframe thead th {\n",
              "        text-align: right;\n",
              "    }\n",
              "</style>\n",
              "<table border=\"1\" class=\"dataframe\">\n",
              "  <thead>\n",
              "    <tr style=\"text-align: right;\">\n",
              "      <th></th>\n",
              "      <th>rating</th>\n",
              "    </tr>\n",
              "    <tr>\n",
              "      <th>movieId</th>\n",
              "      <th></th>\n",
              "    </tr>\n",
              "  </thead>\n",
              "  <tbody>\n",
              "    <tr>\n",
              "      <th>1</th>\n",
              "      <td>49695</td>\n",
              "    </tr>\n",
              "    <tr>\n",
              "      <th>2</th>\n",
              "      <td>22243</td>\n",
              "    </tr>\n",
              "    <tr>\n",
              "      <th>3</th>\n",
              "      <td>12735</td>\n",
              "    </tr>\n",
              "    <tr>\n",
              "      <th>4</th>\n",
              "      <td>2756</td>\n",
              "    </tr>\n",
              "    <tr>\n",
              "      <th>5</th>\n",
              "      <td>12161</td>\n",
              "    </tr>\n",
              "    <tr>\n",
              "      <th>...</th>\n",
              "      <td>...</td>\n",
              "    </tr>\n",
              "    <tr>\n",
              "      <th>131254</th>\n",
              "      <td>1</td>\n",
              "    </tr>\n",
              "    <tr>\n",
              "      <th>131256</th>\n",
              "      <td>1</td>\n",
              "    </tr>\n",
              "    <tr>\n",
              "      <th>131258</th>\n",
              "      <td>1</td>\n",
              "    </tr>\n",
              "    <tr>\n",
              "      <th>131260</th>\n",
              "      <td>1</td>\n",
              "    </tr>\n",
              "    <tr>\n",
              "      <th>131262</th>\n",
              "      <td>1</td>\n",
              "    </tr>\n",
              "  </tbody>\n",
              "</table>\n",
              "<p>26744 rows × 1 columns</p>\n",
              "</div>"
            ],
            "text/plain": [
              "         rating\n",
              "movieId        \n",
              "1         49695\n",
              "2         22243\n",
              "3         12735\n",
              "4          2756\n",
              "5         12161\n",
              "...         ...\n",
              "131254        1\n",
              "131256        1\n",
              "131258        1\n",
              "131260        1\n",
              "131262        1\n",
              "\n",
              "[26744 rows x 1 columns]"
            ]
          },
          "metadata": {
            "tags": []
          },
          "execution_count": 6
        }
      ]
    },
    {
      "cell_type": "code",
      "metadata": {
        "id": "12z3M3btrCFW",
        "colab_type": "code",
        "outputId": "2356aac1-c563-4fbd-a223-8b7c9c3de068",
        "colab": {
          "base_uri": "https://localhost:8080/",
          "height": 350
        }
      },
      "source": [
        "import matplotlib.pyplot as plt\n",
        "plt.figure(figsize=(6,5))\n",
        "plt.scatter(rating_count.index, rating_count.rating, edgecolor='black')\n",
        "plt.xlim(0,rating_count.index.max())\n",
        "plt.ylim(0,)\n",
        "plt.title('Number of Ratings per movie')\n",
        "plt.xlabel('movieId')\n",
        "plt.ylabel('Number of ratings received')\n",
        "plt.show()"
      ],
      "execution_count": 0,
      "outputs": [
        {
          "output_type": "display_data",
          "data": {
            "image/png": "[encoded data removed]",
            "text/plain": [
              "<Figure size 432x360 with 1 Axes>"
            ]
          },
          "metadata": {
            "tags": [],
            "needs_background": "light"
          }
        }
      ]
    },
    {
      "cell_type": "markdown",
      "metadata": {
        "id": "_noAullkpeRc",
        "colab_type": "text"
      },
      "source": [
        "We can observe a significant difference between the number of ratings received for different movies, ranging from around 70,000 ratings for the most popular movies to around a single rating for some unpopular movies.\n",
        "\n",
        "Hence, we will use only those movies that have received more than atleast 5000 user ratings in our recommendation system. This will help us focus on recommending more popular movies, as well as help us increase training and prediction speed."
      ]
    },
    {
      "cell_type": "code",
      "metadata": {
        "id": "6BPhWMMmpLGl",
        "colab_type": "code",
        "outputId": "0e7928c0-f79e-4c38-8623-a4b9583ace82",
        "colab": {
          "base_uri": "https://localhost:8080/",
          "height": 419
        }
      },
      "source": [
        "import numpy as np\n",
        "top_movies = ratings_df[ratings_df.groupby('movieId')['rating'].transform('size')>5000]\n",
        "top_movies"
      ],
      "execution_count": 0,
      "outputs": [
        {
          "output_type": "execute_result",
          "data": {
            "text/html": [
              "<div>\n",
              "<style scoped>\n",
              "    .dataframe tbody tr th:only-of-type {\n",
              "        vertical-align: middle;\n",
              "    }\n",
              "\n",
              "    .dataframe tbody tr th {\n",
              "        vertical-align: top;\n",
              "    }\n",
              "\n",
              "    .dataframe thead th {\n",
              "        text-align: right;\n",
              "    }\n",
              "</style>\n",
              "<table border=\"1\" class=\"dataframe\">\n",
              "  <thead>\n",
              "    <tr style=\"text-align: right;\">\n",
              "      <th></th>\n",
              "      <th>userId</th>\n",
              "      <th>movieId</th>\n",
              "      <th>rating</th>\n",
              "    </tr>\n",
              "  </thead>\n",
              "  <tbody>\n",
              "    <tr>\n",
              "      <th>0</th>\n",
              "      <td>1</td>\n",
              "      <td>2</td>\n",
              "      <td>3.5</td>\n",
              "    </tr>\n",
              "    <tr>\n",
              "      <th>1</th>\n",
              "      <td>1</td>\n",
              "      <td>29</td>\n",
              "      <td>3.5</td>\n",
              "    </tr>\n",
              "    <tr>\n",
              "      <th>2</th>\n",
              "      <td>1</td>\n",
              "      <td>32</td>\n",
              "      <td>3.5</td>\n",
              "    </tr>\n",
              "    <tr>\n",
              "      <th>3</th>\n",
              "      <td>1</td>\n",
              "      <td>47</td>\n",
              "      <td>3.5</td>\n",
              "    </tr>\n",
              "    <tr>\n",
              "      <th>4</th>\n",
              "      <td>1</td>\n",
              "      <td>50</td>\n",
              "      <td>3.5</td>\n",
              "    </tr>\n",
              "    <tr>\n",
              "      <th>...</th>\n",
              "      <td>...</td>\n",
              "      <td>...</td>\n",
              "      <td>...</td>\n",
              "    </tr>\n",
              "    <tr>\n",
              "      <th>20000243</th>\n",
              "      <td>138493</td>\n",
              "      <td>53996</td>\n",
              "      <td>4.5</td>\n",
              "    </tr>\n",
              "    <tr>\n",
              "      <th>20000249</th>\n",
              "      <td>138493</td>\n",
              "      <td>59315</td>\n",
              "      <td>4.0</td>\n",
              "    </tr>\n",
              "    <tr>\n",
              "      <th>20000252</th>\n",
              "      <td>138493</td>\n",
              "      <td>60069</td>\n",
              "      <td>4.0</td>\n",
              "    </tr>\n",
              "    <tr>\n",
              "      <th>20000258</th>\n",
              "      <td>138493</td>\n",
              "      <td>68954</td>\n",
              "      <td>4.5</td>\n",
              "    </tr>\n",
              "    <tr>\n",
              "      <th>20000261</th>\n",
              "      <td>138493</td>\n",
              "      <td>70286</td>\n",
              "      <td>5.0</td>\n",
              "    </tr>\n",
              "  </tbody>\n",
              "</table>\n",
              "<p>12865416 rows × 3 columns</p>\n",
              "</div>"
            ],
            "text/plain": [
              "          userId  movieId  rating\n",
              "0              1        2     3.5\n",
              "1              1       29     3.5\n",
              "2              1       32     3.5\n",
              "3              1       47     3.5\n",
              "4              1       50     3.5\n",
              "...          ...      ...     ...\n",
              "20000243  138493    53996     4.5\n",
              "20000249  138493    59315     4.0\n",
              "20000252  138493    60069     4.0\n",
              "20000258  138493    68954     4.5\n",
              "20000261  138493    70286     5.0\n",
              "\n",
              "[12865416 rows x 3 columns]"
            ]
          },
          "metadata": {
            "tags": []
          },
          "execution_count": 8
        }
      ]
    },
    {
      "cell_type": "markdown",
      "metadata": {
        "id": "MPxGmYcWu0Rp",
        "colab_type": "text"
      },
      "source": [
        "We will now merge our ratings and movies databases to get a single dataframe that will be used from now."
      ]
    },
    {
      "cell_type": "code",
      "metadata": {
        "id": "Dc0TPxUsu0fy",
        "colab_type": "code",
        "outputId": "29f8fccc-6b13-4936-d338-3c89693f5590",
        "colab": {
          "base_uri": "https://localhost:8080/",
          "height": 436
        }
      },
      "source": [
        "data = pd.merge(movie_df,top_movies)\n",
        "print(data.shape)\n",
        "data"
      ],
      "execution_count": 0,
      "outputs": [
        {
          "output_type": "stream",
          "text": [
            "(12865416, 5)\n"
          ],
          "name": "stdout"
        },
        {
          "output_type": "execute_result",
          "data": {
            "text/html": [
              "<div>\n",
              "<style scoped>\n",
              "    .dataframe tbody tr th:only-of-type {\n",
              "        vertical-align: middle;\n",
              "    }\n",
              "\n",
              "    .dataframe tbody tr th {\n",
              "        vertical-align: top;\n",
              "    }\n",
              "\n",
              "    .dataframe thead th {\n",
              "        text-align: right;\n",
              "    }\n",
              "</style>\n",
              "<table border=\"1\" class=\"dataframe\">\n",
              "  <thead>\n",
              "    <tr style=\"text-align: right;\">\n",
              "      <th></th>\n",
              "      <th>movieId</th>\n",
              "      <th>title</th>\n",
              "      <th>genres</th>\n",
              "      <th>userId</th>\n",
              "      <th>rating</th>\n",
              "    </tr>\n",
              "  </thead>\n",
              "  <tbody>\n",
              "    <tr>\n",
              "      <th>0</th>\n",
              "      <td>1</td>\n",
              "      <td>Toy Story (1995)</td>\n",
              "      <td>Adventure|Animation|Children|Comedy|Fantasy</td>\n",
              "      <td>3</td>\n",
              "      <td>4.0</td>\n",
              "    </tr>\n",
              "    <tr>\n",
              "      <th>1</th>\n",
              "      <td>1</td>\n",
              "      <td>Toy Story (1995)</td>\n",
              "      <td>Adventure|Animation|Children|Comedy|Fantasy</td>\n",
              "      <td>6</td>\n",
              "      <td>5.0</td>\n",
              "    </tr>\n",
              "    <tr>\n",
              "      <th>2</th>\n",
              "      <td>1</td>\n",
              "      <td>Toy Story (1995)</td>\n",
              "      <td>Adventure|Animation|Children|Comedy|Fantasy</td>\n",
              "      <td>8</td>\n",
              "      <td>4.0</td>\n",
              "    </tr>\n",
              "    <tr>\n",
              "      <th>3</th>\n",
              "      <td>1</td>\n",
              "      <td>Toy Story (1995)</td>\n",
              "      <td>Adventure|Animation|Children|Comedy|Fantasy</td>\n",
              "      <td>10</td>\n",
              "      <td>4.0</td>\n",
              "    </tr>\n",
              "    <tr>\n",
              "      <th>4</th>\n",
              "      <td>1</td>\n",
              "      <td>Toy Story (1995)</td>\n",
              "      <td>Adventure|Animation|Children|Comedy|Fantasy</td>\n",
              "      <td>11</td>\n",
              "      <td>4.5</td>\n",
              "    </tr>\n",
              "    <tr>\n",
              "      <th>...</th>\n",
              "      <td>...</td>\n",
              "      <td>...</td>\n",
              "      <td>...</td>\n",
              "      <td>...</td>\n",
              "      <td>...</td>\n",
              "    </tr>\n",
              "    <tr>\n",
              "      <th>12865411</th>\n",
              "      <td>81845</td>\n",
              "      <td>King's Speech, The (2010)</td>\n",
              "      <td>Drama</td>\n",
              "      <td>138386</td>\n",
              "      <td>4.0</td>\n",
              "    </tr>\n",
              "    <tr>\n",
              "      <th>12865412</th>\n",
              "      <td>81845</td>\n",
              "      <td>King's Speech, The (2010)</td>\n",
              "      <td>Drama</td>\n",
              "      <td>138406</td>\n",
              "      <td>4.0</td>\n",
              "    </tr>\n",
              "    <tr>\n",
              "      <th>12865413</th>\n",
              "      <td>81845</td>\n",
              "      <td>King's Speech, The (2010)</td>\n",
              "      <td>Drama</td>\n",
              "      <td>138435</td>\n",
              "      <td>4.0</td>\n",
              "    </tr>\n",
              "    <tr>\n",
              "      <th>12865414</th>\n",
              "      <td>81845</td>\n",
              "      <td>King's Speech, The (2010)</td>\n",
              "      <td>Drama</td>\n",
              "      <td>138446</td>\n",
              "      <td>4.0</td>\n",
              "    </tr>\n",
              "    <tr>\n",
              "      <th>12865415</th>\n",
              "      <td>81845</td>\n",
              "      <td>King's Speech, The (2010)</td>\n",
              "      <td>Drama</td>\n",
              "      <td>138472</td>\n",
              "      <td>4.0</td>\n",
              "    </tr>\n",
              "  </tbody>\n",
              "</table>\n",
              "<p>12865416 rows × 5 columns</p>\n",
              "</div>"
            ],
            "text/plain": [
              "          movieId                      title  ...  userId  rating\n",
              "0               1           Toy Story (1995)  ...       3     4.0\n",
              "1               1           Toy Story (1995)  ...       6     5.0\n",
              "2               1           Toy Story (1995)  ...       8     4.0\n",
              "3               1           Toy Story (1995)  ...      10     4.0\n",
              "4               1           Toy Story (1995)  ...      11     4.5\n",
              "...           ...                        ...  ...     ...     ...\n",
              "12865411    81845  King's Speech, The (2010)  ...  138386     4.0\n",
              "12865412    81845  King's Speech, The (2010)  ...  138406     4.0\n",
              "12865413    81845  King's Speech, The (2010)  ...  138435     4.0\n",
              "12865414    81845  King's Speech, The (2010)  ...  138446     4.0\n",
              "12865415    81845  King's Speech, The (2010)  ...  138472     4.0\n",
              "\n",
              "[12865416 rows x 5 columns]"
            ]
          },
          "metadata": {
            "tags": []
          },
          "execution_count": 9
        }
      ]
    },
    {
      "cell_type": "code",
      "metadata": {
        "id": "nsRuOsgmvQIU",
        "colab_type": "code",
        "outputId": "38d182cb-050b-45ec-d23f-7b549c1b3507",
        "colab": {
          "base_uri": "https://localhost:8080/",
          "height": 85
        }
      },
      "source": [
        "n_users = len(data.userId.unique())\n",
        "n_movies = len(data.movieId.unique())\n",
        "min_rating = min(data['rating'])\n",
        "max_rating = max(data['rating'])\n",
        "print(\"No of unique users:\", n_users)\n",
        "print(\"No of unique movies: \", n_movies)\n",
        "print(\"Minimum Rating: \", min_rating)\n",
        "print(\"Maximum Rating:\", max_rating)"
      ],
      "execution_count": 0,
      "outputs": [
        {
          "output_type": "stream",
          "text": [
            "No of unique users: 138476\n",
            "No of unique movies:  1005\n",
            "Minimum Rating:  0.5\n",
            "Maximum Rating: 5.0\n"
          ],
          "name": "stdout"
        }
      ]
    },
    {
      "cell_type": "markdown",
      "metadata": {
        "id": "d74XV6tXvd7q",
        "colab_type": "text"
      },
      "source": [
        "Let's also observe the frequency of each rating value in our dataset:"
      ]
    },
    {
      "cell_type": "code",
      "metadata": {
        "id": "gBbb_OjrveO9",
        "colab_type": "code",
        "outputId": "387f6b82-a4a1-46f9-e237-d73526804210",
        "colab": {
          "base_uri": "https://localhost:8080/",
          "height": 344
        }
      },
      "source": [
        "print(\"Frequency of each rating from 0.5 to 5.0:\\n\")\n",
        "import matplotlib.pyplot as plt\n",
        "plt.style.use('ggplot')\n",
        "data['rating'].plot(kind = 'hist', bins = 10)\n",
        "plt.xlabel('Ratings')"
      ],
      "execution_count": 0,
      "outputs": [
        {
          "output_type": "stream",
          "text": [
            "Frequency of each rating from 0.5 to 5.0:\n",
            "\n"
          ],
          "name": "stdout"
        },
        {
          "output_type": "execute_result",
          "data": {
            "text/plain": [
              "Text(0.5, 0, 'Ratings')"
            ]
          },
          "metadata": {
            "tags": []
          },
          "execution_count": 11
        },
        {
          "output_type": "display_data",
          "data": {
            "image/png": "[encoded data removed]",
            "text/plain": [
              "<Figure size 432x288 with 1 Axes>"
            ]
          },
          "metadata": {
            "tags": []
          }
        }
      ]
    },
    {
      "cell_type": "markdown",
      "metadata": {
        "id": "cinivfajvoKX",
        "colab_type": "text"
      },
      "source": [
        "We can observe that most users rate movies in the range of 3 to 5, with 4 being the most common ratings. "
      ]
    },
    {
      "cell_type": "markdown",
      "metadata": {
        "id": "bb2SRaMbwANA",
        "colab_type": "text"
      },
      "source": [
        "Now, we can also observe that the userIds and movieIds are not continuous in our dataset. Hence, we can use SKLearn's Label Encoders to assign unique sequential IDs starting at zero, which is required later in our model."
      ]
    },
    {
      "cell_type": "code",
      "metadata": {
        "id": "V8FtfUB8xJv5",
        "colab_type": "code",
        "outputId": "d9d6b1c8-c373-4c6e-c679-8e29c90ebd75",
        "colab": {
          "base_uri": "https://localhost:8080/",
          "height": 419
        }
      },
      "source": [
        "from sklearn.preprocessing import LabelEncoder\n",
        "\n",
        "LE_user = LabelEncoder()\n",
        "LE_movie = LabelEncoder()\n",
        "data['UniqueUserId'] = LE_user.fit_transform(data['userId'].values)\n",
        "data['UniqueMovieId'] = LE_movie.fit_transform(data['movieId'].values)\n",
        "data"
      ],
      "execution_count": 0,
      "outputs": [
        {
          "output_type": "execute_result",
          "data": {
            "text/html": [
              "<div>\n",
              "<style scoped>\n",
              "    .dataframe tbody tr th:only-of-type {\n",
              "        vertical-align: middle;\n",
              "    }\n",
              "\n",
              "    .dataframe tbody tr th {\n",
              "        vertical-align: top;\n",
              "    }\n",
              "\n",
              "    .dataframe thead th {\n",
              "        text-align: right;\n",
              "    }\n",
              "</style>\n",
              "<table border=\"1\" class=\"dataframe\">\n",
              "  <thead>\n",
              "    <tr style=\"text-align: right;\">\n",
              "      <th></th>\n",
              "      <th>movieId</th>\n",
              "      <th>title</th>\n",
              "      <th>genres</th>\n",
              "      <th>userId</th>\n",
              "      <th>rating</th>\n",
              "      <th>UniqueUserId</th>\n",
              "      <th>UniqueMovieId</th>\n",
              "    </tr>\n",
              "  </thead>\n",
              "  <tbody>\n",
              "    <tr>\n",
              "      <th>0</th>\n",
              "      <td>1</td>\n",
              "      <td>Toy Story (1995)</td>\n",
              "      <td>Adventure|Animation|Children|Comedy|Fantasy</td>\n",
              "      <td>3</td>\n",
              "      <td>4.0</td>\n",
              "      <td>2</td>\n",
              "      <td>0</td>\n",
              "    </tr>\n",
              "    <tr>\n",
              "      <th>1</th>\n",
              "      <td>1</td>\n",
              "      <td>Toy Story (1995)</td>\n",
              "      <td>Adventure|Animation|Children|Comedy|Fantasy</td>\n",
              "      <td>6</td>\n",
              "      <td>5.0</td>\n",
              "      <td>5</td>\n",
              "      <td>0</td>\n",
              "    </tr>\n",
              "    <tr>\n",
              "      <th>2</th>\n",
              "      <td>1</td>\n",
              "      <td>Toy Story (1995)</td>\n",
              "      <td>Adventure|Animation|Children|Comedy|Fantasy</td>\n",
              "      <td>8</td>\n",
              "      <td>4.0</td>\n",
              "      <td>7</td>\n",
              "      <td>0</td>\n",
              "    </tr>\n",
              "    <tr>\n",
              "      <th>3</th>\n",
              "      <td>1</td>\n",
              "      <td>Toy Story (1995)</td>\n",
              "      <td>Adventure|Animation|Children|Comedy|Fantasy</td>\n",
              "      <td>10</td>\n",
              "      <td>4.0</td>\n",
              "      <td>9</td>\n",
              "      <td>0</td>\n",
              "    </tr>\n",
              "    <tr>\n",
              "      <th>4</th>\n",
              "      <td>1</td>\n",
              "      <td>Toy Story (1995)</td>\n",
              "      <td>Adventure|Animation|Children|Comedy|Fantasy</td>\n",
              "      <td>11</td>\n",
              "      <td>4.5</td>\n",
              "      <td>10</td>\n",
              "      <td>0</td>\n",
              "    </tr>\n",
              "    <tr>\n",
              "      <th>...</th>\n",
              "      <td>...</td>\n",
              "      <td>...</td>\n",
              "      <td>...</td>\n",
              "      <td>...</td>\n",
              "      <td>...</td>\n",
              "      <td>...</td>\n",
              "      <td>...</td>\n",
              "    </tr>\n",
              "    <tr>\n",
              "      <th>12865411</th>\n",
              "      <td>81845</td>\n",
              "      <td>King's Speech, The (2010)</td>\n",
              "      <td>Drama</td>\n",
              "      <td>138386</td>\n",
              "      <td>4.0</td>\n",
              "      <td>138368</td>\n",
              "      <td>1004</td>\n",
              "    </tr>\n",
              "    <tr>\n",
              "      <th>12865412</th>\n",
              "      <td>81845</td>\n",
              "      <td>King's Speech, The (2010)</td>\n",
              "      <td>Drama</td>\n",
              "      <td>138406</td>\n",
              "      <td>4.0</td>\n",
              "      <td>138388</td>\n",
              "      <td>1004</td>\n",
              "    </tr>\n",
              "    <tr>\n",
              "      <th>12865413</th>\n",
              "      <td>81845</td>\n",
              "      <td>King's Speech, The (2010)</td>\n",
              "      <td>Drama</td>\n",
              "      <td>138435</td>\n",
              "      <td>4.0</td>\n",
              "      <td>138417</td>\n",
              "      <td>1004</td>\n",
              "    </tr>\n",
              "    <tr>\n",
              "      <th>12865414</th>\n",
              "      <td>81845</td>\n",
              "      <td>King's Speech, The (2010)</td>\n",
              "      <td>Drama</td>\n",
              "      <td>138446</td>\n",
              "      <td>4.0</td>\n",
              "      <td>138428</td>\n",
              "      <td>1004</td>\n",
              "    </tr>\n",
              "    <tr>\n",
              "      <th>12865415</th>\n",
              "      <td>81845</td>\n",
              "      <td>King's Speech, The (2010)</td>\n",
              "      <td>Drama</td>\n",
              "      <td>138472</td>\n",
              "      <td>4.0</td>\n",
              "      <td>138454</td>\n",
              "      <td>1004</td>\n",
              "    </tr>\n",
              "  </tbody>\n",
              "</table>\n",
              "<p>12865416 rows × 7 columns</p>\n",
              "</div>"
            ],
            "text/plain": [
              "          movieId                      title  ... UniqueUserId  UniqueMovieId\n",
              "0               1           Toy Story (1995)  ...            2              0\n",
              "1               1           Toy Story (1995)  ...            5              0\n",
              "2               1           Toy Story (1995)  ...            7              0\n",
              "3               1           Toy Story (1995)  ...            9              0\n",
              "4               1           Toy Story (1995)  ...           10              0\n",
              "...           ...                        ...  ...          ...            ...\n",
              "12865411    81845  King's Speech, The (2010)  ...       138368           1004\n",
              "12865412    81845  King's Speech, The (2010)  ...       138388           1004\n",
              "12865413    81845  King's Speech, The (2010)  ...       138417           1004\n",
              "12865414    81845  King's Speech, The (2010)  ...       138428           1004\n",
              "12865415    81845  King's Speech, The (2010)  ...       138454           1004\n",
              "\n",
              "[12865416 rows x 7 columns]"
            ]
          },
          "metadata": {
            "tags": []
          },
          "execution_count": 12
        }
      ]
    },
    {
      "cell_type": "markdown",
      "metadata": {
        "id": "suzjay-zza2g",
        "colab_type": "text"
      },
      "source": [
        "Let us also make a few functions for ease of conversion between these values that will be required later."
      ]
    },
    {
      "cell_type": "code",
      "metadata": {
        "id": "k3rafnophfTy",
        "colab_type": "code",
        "outputId": "3a92c330-df64-4b5a-e1ff-f02ba98c414f",
        "colab": {
          "base_uri": "https://localhost:8080/",
          "height": 187
        }
      },
      "source": [
        "data_np = data.to_numpy()\n",
        "print(data_np)\n",
        "def movieId_to_title(id):\n",
        "  for row in data_np:\n",
        "    if row[0] == id:\n",
        "      title = row[1]\n",
        "      return title\n",
        "\n",
        "def unique_movieId_to_title(uid):\n",
        "  for row in data_np:\n",
        "    if row[6] == uid:\n",
        "      title = row[1]\n",
        "      return title\n",
        "\n",
        "def movieId_to_unique_movieId(id):\n",
        "  for row in data_np:\n",
        "    if row[0] == id:\n",
        "      uid = row[6]\n",
        "      return uid\n",
        "\n",
        "def unique_movieId_to_movieId(uid):\n",
        "  for row in data_np:\n",
        "    if row[6] == uid:\n",
        "      id = row[1]\n",
        "      return id"
      ],
      "execution_count": 0,
      "outputs": [
        {
          "output_type": "stream",
          "text": [
            "[[1 'Toy Story (1995)' 'Adventure|Animation|Children|Comedy|Fantasy' ...\n",
            "  4.0 2 0]\n",
            " [1 'Toy Story (1995)' 'Adventure|Animation|Children|Comedy|Fantasy' ...\n",
            "  5.0 5 0]\n",
            " [1 'Toy Story (1995)' 'Adventure|Animation|Children|Comedy|Fantasy' ...\n",
            "  4.0 7 0]\n",
            " ...\n",
            " [81845 \"King's Speech, The (2010)\" 'Drama' ... 4.0 138417 1004]\n",
            " [81845 \"King's Speech, The (2010)\" 'Drama' ... 4.0 138428 1004]\n",
            " [81845 \"King's Speech, The (2010)\" 'Drama' ... 4.0 138454 1004]]\n"
          ],
          "name": "stdout"
        }
      ]
    },
    {
      "cell_type": "markdown",
      "metadata": {
        "id": "JpVF8qb30ScZ",
        "colab_type": "text"
      },
      "source": [
        "We will now create our ( [UserId, MovieId] , Rating) pairing of data and label that will be input into our model for training. We will not be using a testing or a validation dataset, as our end objective is not to make accurate predictions on new data, but learn the best entitiy embeddings."
      ]
    },
    {
      "cell_type": "code",
      "metadata": {
        "id": "e3rfGYbM0SmC",
        "colab_type": "code",
        "outputId": "f4717c2f-e2b8-44f3-b1bc-2401ae635e4c",
        "colab": {
          "base_uri": "https://localhost:8080/",
          "height": 85
        }
      },
      "source": [
        "X = data[['UniqueUserId', 'UniqueMovieId']].values\n",
        "y = data['rating'].values\n",
        "# print(\"Input = ['UniqueUserId', 'UniqueMovieId'] :\\n\", X, \"\\n\")\n",
        "X_array = [X[:, 0], X[:, 1]]\n",
        "print(\"Input (X_combined): \", X_array, \"\\n\")\n",
        "print(\"Output (Rating) :\", y, \"\\n\")"
      ],
      "execution_count": 0,
      "outputs": [
        {
          "output_type": "stream",
          "text": [
            "Input (X_combined):  [array([     2,      5,      7, ..., 138417, 138428, 138454]), array([   0,    0,    0, ..., 1004, 1004, 1004])] \n",
            "\n",
            "Output (Rating) : [4. 5. 4. ... 4. 4. 4.] \n",
            "\n"
          ],
          "name": "stdout"
        }
      ]
    },
    {
      "cell_type": "code",
      "metadata": {
        "id": "mZyFyla-1_11",
        "colab_type": "code",
        "outputId": "57faddc3-b035-4541-aa6f-22c79b4a85a5",
        "colab": {
          "base_uri": "https://localhost:8080/",
          "height": 697
        }
      },
      "source": [
        "from keras.layers import Input, Dot, Reshape, Dense, Add, Activation, Lambda\n",
        "from keras.layers.embeddings import Embedding\n",
        "from keras.models import Model\n",
        "from keras.optimizers import Adam\n",
        "from keras.regularizers import l2\n",
        "\n",
        "def Movie_Embedding_Network(n_users, n_movies, embedding_size, min_rating, max_rating):\n",
        "  \n",
        "  #Input -> UserId followed by movieId\n",
        "  users = Input(name = 'users', shape = (1,))\n",
        "  movies = Input(name = 'movies', shape = (1,))\n",
        "\n",
        "  #Create Embedding Layers\n",
        "  users_embedding = Embedding(name = 'users_embeddings', input_dim = n_users, output_dim = embedding_size, embeddings_initializer='he_normal', embeddings_regularizer=l2(0.000001))(users)\n",
        "  movies_embedding = Embedding(name = 'movies_embeddings', input_dim = n_movies, output_dim = embedding_size, embeddings_initializer='he_normal', embeddings_regularizer=l2(0.000001))(movies)\n",
        "\n",
        "  #Reshaping the Embedding Layers\n",
        "  reshaped_users_embedding = Reshape((embedding_size,), name = 'reshaped_users_embeddings')(users_embedding)\n",
        "  reshaped_movies_embedding = Reshape((embedding_size,), name = 'reshaped_movies_embeddings')(movies_embedding)\n",
        "\n",
        "  #Taking the dot product of the two embedding layers\n",
        "  merged = Dot(name = 'dot_product', normalize = True, axes = 1)([reshaped_movies_embedding, reshaped_users_embedding])\n",
        "\n",
        "  #Creating Embedding layers of size (1) for calculating bias.\n",
        "  movies_bias = Embedding(name = 'movies_bias', input_dim = n_movies, output_dim = 1, embeddings_initializer='he_normal', embeddings_regularizer=l2(0.000001))(movies)\n",
        "  users_bias = Embedding(name = 'users_bias', input_dim = n_users, output_dim = 1, embeddings_initializer='he_normal', embeddings_regularizer=l2(0.000001))(users)\n",
        "\n",
        "  #Reshaping the Bias Embedding Layers\n",
        "  reshaped_movies_bias = Reshape((1,), name = 'reshaped_movies_bias')(movies_bias)\n",
        "  reshaped_users_bias = Reshape((1,), name = 'reshaped_users_bias')(users_bias)\n",
        "\n",
        "  #Adding the Bias Layers to our dot product merged layer\n",
        "  merged_w_bias = Add(name = 'bias_addition')([merged, reshaped_movies_bias, reshaped_users_bias])\n",
        "\n",
        "  # Running the output of our dot product layer through a sigmoid activation layer and then scaling the outputs to our rating range for non-linearity\n",
        "  activated = Activation('sigmoid')(merged_w_bias)\n",
        "  scaled = Lambda(lambda x: x * (max_rating - min_rating) + min_rating)(activated)\n",
        "\n",
        "  model = Model(inputs=[users, movies], outputs=scaled)\n",
        "  model.compile(loss='mean_squared_error', optimizer=Adam(lr=0.001))\n",
        "  return model\n",
        "\n",
        "embedding_size = 50\n",
        "model = Movie_Embedding_Network(n_users, n_movies, embedding_size, min_rating, max_rating)\n",
        "model.summary()"
      ],
      "execution_count": 0,
      "outputs": [
        {
          "output_type": "stream",
          "text": [
            "Using TensorFlow backend.\n"
          ],
          "name": "stderr"
        },
        {
          "output_type": "stream",
          "text": [
            "Model: \"model_1\"\n",
            "__________________________________________________________________________________________________\n",
            "Layer (type)                    Output Shape         Param #     Connected to                     \n",
            "==================================================================================================\n",
            "movies (InputLayer)             (None, 1)            0                                            \n",
            "__________________________________________________________________________________________________\n",
            "users (InputLayer)              (None, 1)            0                                            \n",
            "__________________________________________________________________________________________________\n",
            "movies_embeddings (Embedding)   (None, 1, 50)        50250       movies[0][0]                     \n",
            "__________________________________________________________________________________________________\n",
            "users_embeddings (Embedding)    (None, 1, 50)        6923800     users[0][0]                      \n",
            "__________________________________________________________________________________________________\n",
            "reshaped_movies_embeddings (Res (None, 50)           0           movies_embeddings[0][0]          \n",
            "__________________________________________________________________________________________________\n",
            "reshaped_users_embeddings (Resh (None, 50)           0           users_embeddings[0][0]           \n",
            "__________________________________________________________________________________________________\n",
            "movies_bias (Embedding)         (None, 1, 1)         1005        movies[0][0]                     \n",
            "__________________________________________________________________________________________________\n",
            "users_bias (Embedding)          (None, 1, 1)         138476      users[0][0]                      \n",
            "__________________________________________________________________________________________________\n",
            "dot_product (Dot)               (None, 1)            0           reshaped_movies_embeddings[0][0] \n",
            "                                                                 reshaped_users_embeddings[0][0]  \n",
            "__________________________________________________________________________________________________\n",
            "reshaped_movies_bias (Reshape)  (None, 1)            0           movies_bias[0][0]                \n",
            "__________________________________________________________________________________________________\n",
            "reshaped_users_bias (Reshape)   (None, 1)            0           users_bias[0][0]                 \n",
            "__________________________________________________________________________________________________\n",
            "bias_addition (Add)             (None, 1)            0           dot_product[0][0]                \n",
            "                                                                 reshaped_movies_bias[0][0]       \n",
            "                                                                 reshaped_users_bias[0][0]        \n",
            "__________________________________________________________________________________________________\n",
            "activation_1 (Activation)       (None, 1)            0           bias_addition[0][0]              \n",
            "__________________________________________________________________________________________________\n",
            "lambda_1 (Lambda)               (None, 1)            0           activation_1[0][0]               \n",
            "==================================================================================================\n",
            "Total params: 7,113,531\n",
            "Trainable params: 7,113,531\n",
            "Non-trainable params: 0\n",
            "__________________________________________________________________________________________________\n"
          ],
          "name": "stdout"
        }
      ]
    },
    {
      "cell_type": "code",
      "metadata": {
        "id": "mcVEOpt9IjY6",
        "colab_type": "code",
        "outputId": "13188954-8920-42e2-dbf8-d77250820c37",
        "colab": {
          "base_uri": "https://localhost:8080/",
          "height": 554
        }
      },
      "source": [
        "from keras.utils import plot_model\n",
        "plot_model(model, rankdir= 'TR', dpi = 80)"
      ],
      "execution_count": 0,
      "outputs": [
        {
          "output_type": "execute_result",
          "data": {
            "image/png": "[encoded data removed]",
            "text/plain": [
              "<IPython.core.display.Image object>"
            ]
          },
          "metadata": {
            "tags": []
          },
          "execution_count": 72
        }
      ]
    },
    {
      "cell_type": "markdown",
      "metadata": {
        "id": "bCUUkf8T4l9n",
        "colab_type": "text"
      },
      "source": [
        "We will use keras ModelCheckcoint for saving our best models which minimise the loss."
      ]
    },
    {
      "cell_type": "code",
      "metadata": {
        "id": "j5LJ6CJA4mHf",
        "colab_type": "code",
        "colab": {}
      },
      "source": [
        "from keras.callbacks import ModelCheckpoint\n",
        "filepath=\"/content/gdrive/My Drive/MovieLens/models/best_attempt.h5\"\n",
        "checkpoint = ModelCheckpoint(filepath, monitor='loss', verbose=1, save_best_only=True, mode='min')\n",
        "callbacks_list = [checkpoint]"
      ],
      "execution_count": 0,
      "outputs": []
    },
    {
      "cell_type": "code",
      "metadata": {
        "id": "iVig0TJ748rG",
        "colab_type": "code",
        "outputId": "43ca81c6-6704-43df-fe84-e834263deafc",
        "colab": {
          "base_uri": "https://localhost:8080/",
          "height": 1000
        }
      },
      "source": [
        "%time\n",
        "epochs = 15\n",
        "\n",
        "history = model.fit(x=X_array, y=y, epochs=epochs, batch_size=1000,\n",
        "                    verbose=1, callbacks=callbacks_list)"
      ],
      "execution_count": 0,
      "outputs": [
        {
          "output_type": "stream",
          "text": [
            "CPU times: user 3 µs, sys: 0 ns, total: 3 µs\n",
            "Wall time: 25 µs\n"
          ],
          "name": "stdout"
        },
        {
          "output_type": "stream",
          "text": [
            "/usr/local/lib/python3.6/dist-packages/tensorflow/python/framework/indexed_slices.py:434: UserWarning: Converting sparse IndexedSlices to a dense Tensor of unknown shape. This may consume a large amount of memory.\n",
            "  \"Converting sparse IndexedSlices to a dense Tensor of unknown shape. \"\n"
          ],
          "name": "stderr"
        },
        {
          "output_type": "stream",
          "text": [
            "Epoch 1/15\n",
            "12865416/12865416 [==============================] - 82s 6us/step - loss: 0.7610\n",
            "\n",
            "Epoch 00001: loss improved from inf to 0.76105, saving model to /content/gdrive/My Drive/MovieLens/models/best_attempt.h5\n",
            "Epoch 2/15\n",
            "12865416/12865416 [==============================] - 83s 6us/step - loss: 0.6619\n",
            "\n",
            "Epoch 00002: loss improved from 0.76105 to 0.66191, saving model to /content/gdrive/My Drive/MovieLens/models/best_attempt.h5\n",
            "Epoch 3/15\n",
            "12865416/12865416 [==============================] - 82s 6us/step - loss: 0.6506\n",
            "\n",
            "Epoch 00003: loss improved from 0.66191 to 0.65056, saving model to /content/gdrive/My Drive/MovieLens/models/best_attempt.h5\n",
            "Epoch 4/15\n",
            "12865416/12865416 [==============================] - 82s 6us/step - loss: 0.6461\n",
            "\n",
            "Epoch 00004: loss improved from 0.65056 to 0.64606, saving model to /content/gdrive/My Drive/MovieLens/models/best_attempt.h5\n",
            "Epoch 5/15\n",
            "12865416/12865416 [==============================] - 82s 6us/step - loss: 0.6437\n",
            "\n",
            "Epoch 00005: loss improved from 0.64606 to 0.64367, saving model to /content/gdrive/My Drive/MovieLens/models/best_attempt.h5\n",
            "Epoch 6/15\n",
            "12865416/12865416 [==============================] - 83s 6us/step - loss: 0.6418\n",
            "\n",
            "Epoch 00006: loss improved from 0.64367 to 0.64185, saving model to /content/gdrive/My Drive/MovieLens/models/best_attempt.h5\n",
            "Epoch 7/15\n",
            "12865416/12865416 [==============================] - 83s 6us/step - loss: 0.6401\n",
            "\n",
            "Epoch 00007: loss improved from 0.64185 to 0.64009, saving model to /content/gdrive/My Drive/MovieLens/models/best_attempt.h5\n",
            "Epoch 8/15\n",
            "12865416/12865416 [==============================] - 82s 6us/step - loss: 0.6384\n",
            "\n",
            "Epoch 00008: loss improved from 0.64009 to 0.63841, saving model to /content/gdrive/My Drive/MovieLens/models/best_attempt.h5\n",
            "Epoch 9/15\n",
            "12865416/12865416 [==============================] - 83s 6us/step - loss: 0.6368\n",
            "\n",
            "Epoch 00009: loss improved from 0.63841 to 0.63680, saving model to /content/gdrive/My Drive/MovieLens/models/best_attempt.h5\n",
            "Epoch 10/15\n",
            "12865416/12865416 [==============================] - 83s 6us/step - loss: 0.6356\n",
            "\n",
            "Epoch 00010: loss improved from 0.63680 to 0.63556, saving model to /content/gdrive/My Drive/MovieLens/models/best_attempt.h5\n",
            "Epoch 11/15\n",
            "12865416/12865416 [==============================] - 83s 6us/step - loss: 0.6346\n",
            "\n",
            "Epoch 00011: loss improved from 0.63556 to 0.63460, saving model to /content/gdrive/My Drive/MovieLens/models/best_attempt.h5\n",
            "Epoch 12/15\n",
            "12865416/12865416 [==============================] - 83s 6us/step - loss: 0.6338\n",
            "\n",
            "Epoch 00012: loss improved from 0.63460 to 0.63380, saving model to /content/gdrive/My Drive/MovieLens/models/best_attempt.h5\n",
            "Epoch 13/15\n",
            "12865416/12865416 [==============================] - 84s 7us/step - loss: 0.6333\n",
            "\n",
            "Epoch 00013: loss improved from 0.63380 to 0.63325, saving model to /content/gdrive/My Drive/MovieLens/models/best_attempt.h5\n",
            "Epoch 14/15\n",
            "12865416/12865416 [==============================] - 84s 7us/step - loss: 0.6327\n",
            "\n",
            "Epoch 00014: loss improved from 0.63325 to 0.63267, saving model to /content/gdrive/My Drive/MovieLens/models/best_attempt.h5\n",
            "Epoch 15/15\n",
            "12865416/12865416 [==============================] - 83s 6us/step - loss: 0.6321\n",
            "\n",
            "Epoch 00015: loss improved from 0.63267 to 0.63212, saving model to /content/gdrive/My Drive/MovieLens/models/best_attempt.h5\n"
          ],
          "name": "stdout"
        }
      ]
    },
    {
      "cell_type": "code",
      "metadata": {
        "id": "Y6fXCGggA0PH",
        "colab_type": "code",
        "colab": {}
      },
      "source": [
        "#Loading Best Weights\n",
        "model.load_weights(\"/content/gdrive/My Drive/MovieLens/models/best_attempt.h5\")"
      ],
      "execution_count": 0,
      "outputs": []
    },
    {
      "cell_type": "code",
      "metadata": {
        "id": "HNQR7orOA2bY",
        "colab_type": "code",
        "colab": {}
      },
      "source": [
        "#Saving Best Model\n",
        "model.save(\"/content/gdrive/My Drive/MovieLens/models/best_attempt.h5\")"
      ],
      "execution_count": 0,
      "outputs": []
    },
    {
      "cell_type": "code",
      "metadata": {
        "id": "62JDM9OYwort",
        "colab_type": "code",
        "colab": {}
      },
      "source": [
        "import matplotlib.pyplot as plt\n",
        "\n",
        "# Plot training & validation loss values\n",
        "plt.plot(history.history['loss'])\n",
        "plt.title('Model loss')\n",
        "plt.ylabel('Loss')\n",
        "plt.xlabel('Epoch')\n",
        "plt.legend('Training Loss', loc='upper left')\n",
        "plt.show()"
      ],
      "execution_count": 0,
      "outputs": []
    },
    {
      "cell_type": "code",
      "metadata": {
        "id": "dd0YVp-LA_Wk",
        "colab_type": "code",
        "outputId": "7dc70923-0a90-40fc-ac50-41d381a9121a",
        "colab": {
          "base_uri": "https://localhost:8080/",
          "height": 255
        }
      },
      "source": [
        "movie_layer = model.get_layer('movies_embeddings')\n",
        "movie_weights = movie_layer.get_weights()[0]\n",
        "print(movie_weights.shape)\n",
        "print(movie_weights[0])"
      ],
      "execution_count": 0,
      "outputs": [
        {
          "output_type": "stream",
          "text": [
            "(1005, 50)\n",
            "[ 6.1439537e-02 -3.0620437e-02  3.9664090e-01  7.9392865e-02\n",
            "  1.0027196e-02 -1.5114629e-01 -1.0758323e-02 -2.9554635e-01\n",
            "  1.0719966e-01  4.3641320e-01  8.4576540e-02  7.6303616e-02\n",
            " -4.6817437e-02  1.5436050e-01  4.1761431e-01 -1.9560184e-01\n",
            " -3.1581684e-03  4.7614295e-02 -4.3061629e-01 -8.8457502e-03\n",
            "  9.4884103e-03 -1.5063885e-02 -1.5367492e-01  9.9029252e-03\n",
            " -4.1377538e-01 -6.1797595e-01  4.1146588e-02  1.2428828e-02\n",
            " -3.4622852e-02 -2.8773380e-02  3.8150340e-02  6.0612173e-03\n",
            "  2.4369976e-02  3.1859937e-01  1.0604848e-02  2.7847311e-02\n",
            " -1.7459154e-02  1.6051047e-01 -7.2056106e-03  9.6692242e-02\n",
            "  2.7510139e-01 -4.5386434e-01 -1.1785025e-01  1.8929635e-01\n",
            " -1.7593091e-02  2.2575270e-01 -4.5439991e-01  3.3088373e-03\n",
            "  1.7066354e-01 -4.4676810e-04]\n"
          ],
          "name": "stdout"
        }
      ]
    },
    {
      "cell_type": "code",
      "metadata": {
        "id": "u793NMMaBEDX",
        "colab_type": "code",
        "outputId": "48c2ca8f-8fbd-4190-9935-4931afd3f5a2",
        "colab": {
          "base_uri": "https://localhost:8080/",
          "height": 255
        }
      },
      "source": [
        "movie_weights_normalised = movie_weights / np.linalg.norm(movie_weights, axis = 1).reshape((-1, 1))\n",
        "print(movie_weights_normalised[0])\n",
        "np.sum(np.square(movie_weights_normalised[0]))"
      ],
      "execution_count": 0,
      "outputs": [
        {
          "output_type": "stream",
          "text": [
            "[ 4.08745483e-02 -2.03711893e-02  2.63877600e-01  5.28185517e-02\n",
            "  6.67090155e-03 -1.00554734e-01 -7.15730619e-03 -1.96621329e-01\n",
            "  7.13178813e-02  2.90337354e-01  5.62671535e-02  5.07633351e-02\n",
            " -3.11467443e-02  1.02693088e-01  2.77830809e-01 -1.30130157e-01\n",
            " -2.10106885e-03  3.16768773e-02 -2.86480755e-01 -5.88490814e-03\n",
            "  6.31245784e-03 -1.00217136e-02 -1.02236979e-01  6.58822665e-03\n",
            " -2.75276840e-01 -4.11127567e-01  2.73740366e-02  8.26866087e-03\n",
            " -2.30339207e-02 -1.91423781e-02  2.53806915e-02  4.03241161e-03\n",
            "  1.62128787e-02  2.11958066e-01  7.05520250e-03  1.85262822e-02\n",
            " -1.16152409e-02  1.06784537e-01 -4.79375478e-03  6.43274933e-02\n",
            "  1.83019683e-01 -3.01947236e-01 -7.84035176e-02  1.25935242e-01\n",
            " -1.17043471e-02  1.50188938e-01 -3.02303553e-01  2.20130617e-03\n",
            "  1.13539182e-01 -2.97226245e-04]\n"
          ],
          "name": "stdout"
        },
        {
          "output_type": "execute_result",
          "data": {
            "text/plain": [
              "0.99999994"
            ]
          },
          "metadata": {
            "tags": []
          },
          "execution_count": 23
        }
      ]
    },
    {
      "cell_type": "code",
      "metadata": {
        "id": "ghYKk8JoBF6K",
        "colab_type": "code",
        "colab": {}
      },
      "source": [
        "def movie_recommend(movieId, weights, n = 10):\n",
        "  print(\"Printing recommendations for:\", movieId_to_title(movieId), \"\\n\\n\")\n",
        "  uid = movieId_to_unique_movieId(movieId)\n",
        "  similarity = np.dot(weights, weights[uid])\n",
        "  #print(similarity)\n",
        "  sorted_sim = np.argsort(similarity)\n",
        "  closest = sorted_sim[-n-1:-1]\n",
        "  #print(closest)\n",
        "  count = 0\n",
        "  for i in reversed(closest):\n",
        "    count = count + 1\n",
        "    print(f'{count:{2}}: {unique_movieId_to_title(i):{80}} ---> Similarity: \", {(similarity[i]):{.2}}')"
      ],
      "execution_count": 0,
      "outputs": []
    },
    {
      "cell_type": "code",
      "metadata": {
        "id": "s4cQ0c5gBMKP",
        "colab_type": "code",
        "outputId": "f229700b-dc60-431e-abc3-d868ec281eeb",
        "colab": {
          "base_uri": "https://localhost:8080/",
          "height": 238
        }
      },
      "source": [
        "movie_recommend(1, movie_weights_normalised)"
      ],
      "execution_count": 0,
      "outputs": [
        {
          "output_type": "stream",
          "text": [
            "Printing recommendations for: Toy Story (1995) \n",
            "\n",
            "\n",
            " 1: Toy Story 2 (1999)                                                               ---> Similarity: \", 0.97\n",
            " 2: Bug's Life, A (1998)                                                             ---> Similarity: \", 0.85\n",
            " 3: Finding Nemo (2003)                                                              ---> Similarity: \", 0.83\n",
            " 4: Monsters, Inc. (2001)                                                            ---> Similarity: \", 0.83\n",
            " 5: Toy Story 3 (2010)                                                               ---> Similarity: \", 0.82\n",
            " 6: Incredibles, The (2004)                                                          ---> Similarity: \", 0.79\n",
            " 7: Aladdin (1992)                                                                   ---> Similarity: \", 0.77\n",
            " 8: Beauty and the Beast (1991)                                                      ---> Similarity: \", 0.75\n",
            " 9: Tarzan (1999)                                                                    ---> Similarity: \", 0.73\n",
            "10: Babe (1995)                                                                      ---> Similarity: \", 0.72\n"
          ],
          "name": "stdout"
        }
      ]
    },
    {
      "cell_type": "code",
      "metadata": {
        "id": "mN1xrmwzBOkM",
        "colab_type": "code",
        "outputId": "eba81139-79f3-4ae3-ac22-4e1671dbc7cf",
        "colab": {
          "base_uri": "https://localhost:8080/",
          "height": 238
        }
      },
      "source": [
        "movie_recommend(4896, movie_weights_normalised)"
      ],
      "execution_count": 0,
      "outputs": [
        {
          "output_type": "stream",
          "text": [
            "Printing recommendations for: Harry Potter and the Sorcerer's Stone (a.k.a. Harry Potter and the Philosopher's Stone) (2001) \n",
            "\n",
            "\n",
            " 1: Harry Potter and the Chamber of Secrets (2002)                                   ---> Similarity: \", 0.98\n",
            " 2: Harry Potter and the Goblet of Fire (2005)                                       ---> Similarity: \", 0.97\n",
            " 3: Harry Potter and the Order of the Phoenix (2007)                                 ---> Similarity: \", 0.96\n",
            " 4: Harry Potter and the Prisoner of Azkaban (2004)                                  ---> Similarity: \", 0.95\n",
            " 5: Chronicles of Narnia: The Lion, the Witch and the Wardrobe, The (2005)           ---> Similarity: \", 0.84\n",
            " 6: Pirates of the Caribbean: At World's End (2007)                                  ---> Similarity: \", 0.72\n",
            " 7: Pirates of the Caribbean: The Curse of the Black Pearl (2003)                    ---> Similarity: \", 0.7\n",
            " 8: Pirates of the Caribbean: Dead Man's Chest (2006)                                ---> Similarity: \", 0.69\n",
            " 9: Ever After: A Cinderella Story (1998)                                            ---> Similarity: \", 0.67\n",
            "10: X-Men: The Last Stand (2006)                                                     ---> Similarity: \", 0.65\n"
          ],
          "name": "stdout"
        }
      ]
    },
    {
      "cell_type": "code",
      "metadata": {
        "id": "X9VUybp8BSap",
        "colab_type": "code",
        "outputId": "ddf819a1-e979-4988-9a7b-b4f21e390d99",
        "colab": {
          "base_uri": "https://localhost:8080/",
          "height": 238
        }
      },
      "source": [
        "movie_recommend(79132, movie_weights_normalised)"
      ],
      "execution_count": 0,
      "outputs": [
        {
          "output_type": "stream",
          "text": [
            "Printing recommendations for: Inception (2010) \n",
            "\n",
            "\n",
            " 1: Dark Knight, The (2008)                                                          ---> Similarity: \", 0.79\n",
            " 2: Prestige, The (2006)                                                             ---> Similarity: \", 0.76\n",
            " 3: Shutter Island (2010)                                                            ---> Similarity: \", 0.71\n",
            " 4: V for Vendetta (2006)                                                            ---> Similarity: \", 0.69\n",
            " 5: Batman Begins (2005)                                                             ---> Similarity: \", 0.68\n",
            " 6: Lucky Number Slevin (2006)                                                       ---> Similarity: \", 0.65\n",
            " 7: Departed, The (2006)                                                             ---> Similarity: \", 0.63\n",
            " 8: 300 (2007)                                                                       ---> Similarity: \", 0.62\n",
            " 9: Sherlock Holmes (2009)                                                           ---> Similarity: \", 0.61\n",
            "10: Last Samurai, The (2003)                                                         ---> Similarity: \", 0.61\n"
          ],
          "name": "stdout"
        }
      ]
    },
    {
      "cell_type": "code",
      "metadata": {
        "id": "ZCHcNlyVBS2F",
        "colab_type": "code",
        "colab": {}
      },
      "source": [
        "def movie_recommend_multiInput(movieIds, weights, n=10):\n",
        "    recs = []\n",
        "    for movieId in movieIds:\n",
        "      uid = movieId_to_unique_movieId(movieId)\n",
        "      similarity = np.dot(weights, weights[uid])\n",
        "      #print(similarity)\n",
        "      sorted_sim = np.argsort(similarity)\n",
        "      closest = sorted_sim[-n-1:-1]\n",
        "      #print(closest)\n",
        "      count = 0\n",
        "      for i in reversed(closest):\n",
        "        recs.append({\"Movie_Name\":unique_movieId_to_title(i), \"Similarity\":similarity[i]})\n",
        "    combined_recs_sorted = sorted(recs, key = lambda i: i['Similarity'])\n",
        "    # print(combined_recs_sorted)\n",
        "    for i in reversed(combined_recs_sorted[:10]):\n",
        "      print(i)\n"
      ],
      "execution_count": 0,
      "outputs": []
    },
    {
      "cell_type": "code",
      "metadata": {
        "id": "tmQ-kFU35x4m",
        "colab_type": "code",
        "outputId": "2da7878a-e14b-40a2-904b-82c9d8051dac",
        "colab": {
          "base_uri": "https://localhost:8080/",
          "height": 357
        }
      },
      "source": [
        "movie_recommend_multiInput([1, 4896], movie_weights_normalised)"
      ],
      "execution_count": 0,
      "outputs": [
        {
          "output_type": "stream",
          "text": [
            "{'Movie_Name': 'Incredibles, The (2004)', 'Similarity': 0.7933394} \n",
            "\n",
            "{'Movie_Name': 'Aladdin (1992)', 'Similarity': 0.7748278} \n",
            "\n",
            "{'Movie_Name': 'Beauty and the Beast (1991)', 'Similarity': 0.75167006} \n",
            "\n",
            "{'Movie_Name': 'Tarzan (1999)', 'Similarity': 0.72616655} \n",
            "\n",
            "{'Movie_Name': \"Pirates of the Caribbean: At World's End (2007)\", 'Similarity': 0.72167724} \n",
            "\n",
            "{'Movie_Name': 'Babe (1995)', 'Similarity': 0.7180187} \n",
            "\n",
            "{'Movie_Name': 'Pirates of the Caribbean: The Curse of the Black Pearl (2003)', 'Similarity': 0.6968948} \n",
            "\n",
            "{'Movie_Name': \"Pirates of the Caribbean: Dead Man's Chest (2006)\", 'Similarity': 0.69170195} \n",
            "\n",
            "{'Movie_Name': 'Ever After: A Cinderella Story (1998)', 'Similarity': 0.6694162} \n",
            "\n",
            "{'Movie_Name': 'X-Men: The Last Stand (2006)', 'Similarity': 0.64758587} \n",
            "\n"
          ],
          "name": "stdout"
        }
      ]
    },
    {
      "cell_type": "code",
      "metadata": {
        "id": "xediC6WzzICZ",
        "colab_type": "code",
        "outputId": "9874d64f-88ff-451f-e6a5-d157ee5d19b1",
        "colab": {
          "base_uri": "https://localhost:8080/",
          "height": 517
        }
      },
      "source": [
        "from sklearn.manifold import TSNE\n",
        "from IPython.core.interactiveshell import InteractiveShell\n",
        "InteractiveShell.ast_node_interactivity = 'all'\n",
        "\n",
        "#Reduce dimensions of embeddings\n",
        "def reduce_dim(weights, components):\n",
        "    return TSNE(components, metric = 'cosine').fit_transform(weights)\n",
        "\n",
        "movie_r = reduce_dim(movie_weights_normalised, components = 2)\n",
        "movie_r.shape\n",
        "\n",
        "plt.figure(figsize = (10, 8))\n",
        "plt.plot(movie_r[:, 0], movie_r[:, 1], 'r.')\n",
        "plt.xlabel('1'); plt.ylabel('2'); plt.title('Movie Embeddings Visualized');"
      ],
      "execution_count": 0,
      "outputs": [
        {
          "output_type": "display_data",
          "data": {
            "image/png": "[encoded data removed]",
            "text/plain": [
              "<Figure size 720x576 with 1 Axes>"
            ]
          },
          "metadata": {
            "tags": []
          }
        }
      ]
    },
    {
      "cell_type": "code",
      "metadata": {
        "id": "6LWM9aj4L-tu",
        "colab_type": "code",
        "outputId": "3ba5d00a-5ba3-423c-ce6d-f784e30eab50",
        "colab": {
          "base_uri": "https://localhost:8080/",
          "height": 309
        }
      },
      "source": [
        "import random\n",
        "genres_list = data.loc[:,[\"UniqueMovieId\",\"genres\"]]\n",
        "genres_list = genres_list.drop_duplicates()\n",
        "# genres_list.to_numpy()\n",
        "print(genres_list)\n",
        "\n",
        "genre_index = []\n",
        "\n",
        "def get_gen(gens):\n",
        "  gen_to_include = ['comedy', 'drama', 'action', 'romance', 'sci-fi', 'horror', 'children']\n",
        "  for i in gens:\n",
        "    if i in gen_to_include:\n",
        "      return i\n",
        "    else:\n",
        "      return gens[0]\n",
        "for i in genres_list.iloc:\n",
        "  gens = i[1]\n",
        "  gens = list(gens.split('|'))\n",
        "  genre_index.append({i[0]: get_gen(gens).lower()})\n",
        "  #print(genre_index[:10])\n",
        "print(genre_index[-10:])\n",
        "\n",
        "genres = []\n",
        "\n",
        "for i in genre_index:\n",
        "  # if list(i.values())[0] not in set(genres):\n",
        "  g = list(i.values())\n",
        "  genres.append(g[0])\n",
        "print(genres)\n"
      ],
      "execution_count": 0,
      "outputs": [
        {
          "output_type": "stream",
          "text": [
            "          UniqueMovieId                                            genres\n",
            "0                     0       Adventure|Animation|Children|Comedy|Fantasy\n",
            "49695                 1                        Adventure|Children|Fantasy\n",
            "71938                 2                                    Comedy|Romance\n",
            "84673                 3                                            Comedy\n",
            "96834                 4                             Action|Crime|Thriller\n",
            "...                 ...                                               ...\n",
            "12829432           1000  Adventure|Animation|Children|Comedy|Fantasy|IMAX\n",
            "12835213           1001   Action|Crime|Drama|Mystery|Sci-Fi|Thriller|IMAX\n",
            "12849236           1002                                             Drama\n",
            "12854500           1003                                    Drama|Thriller\n",
            "12859787           1004                                             Drama\n",
            "\n",
            "[1005 rows x 2 columns]\n",
            "[{995: 'mystery'}, {996: 'action'}, {997: 'action'}, {998: 'action'}, {999: 'drama'}, {1000: 'adventure'}, {1001: 'action'}, {1002: 'drama'}, {1003: 'drama'}, {1004: 'drama'}]\n",
            "['adventure', 'adventure', 'comedy', 'comedy', 'action', 'comedy', 'action', 'comedy', 'drama', 'crime', 'drama', 'comedy', 'comedy', 'comedy', 'crime', 'drama', 'drama', 'adventure', 'drama', 'mystery', 'children', 'crime', 'comedy', 'action', 'comedy', 'mystery', 'animation', 'crime', 'comedy', 'comedy', 'adventure', 'drama', 'action', 'drama', 'action', 'comedy', 'drama', 'adventure', 'action', 'crime', 'action', 'comedy', 'drama', 'comedy', 'action', 'adventure', 'action', 'action', 'adventure', 'action', 'drama', 'documentary', 'action', 'action', 'action', 'action', 'action', 'action', 'comedy', 'action', 'comedy', 'drama', 'comedy', 'horror', 'action', 'comedy', 'action', 'drama', 'action', 'drama', 'comedy', 'drama', 'comedy', 'comedy', 'drama', 'drama', 'adventure', 'comedy', 'comedy', 'action', 'comedy', 'documentary', 'crime', 'comedy', 'drama', 'comedy', 'action', 'drama', 'drama', 'drama', 'comedy', 'drama', 'comedy', 'drama', 'drama', 'drama', 'action', 'action', 'action', 'comedy', 'drama', 'action', 'drama', 'drama', 'comedy', 'action', 'action', 'comedy', 'crime', 'comedy', 'action', 'adventure', 'comedy', 'drama', 'comedy', 'comedy', 'comedy', 'comedy', 'comedy', 'action', 'drama', 'action', 'children', 'comedy', 'comedy', 'adventure', 'adventure', 'action', 'adventure', 'action', 'comedy', 'action', 'action', 'action', 'action', 'drama', 'western', 'children', 'comedy', 'action', 'crime', 'adventure', 'action', 'comedy', 'comedy', 'comedy', 'action', 'drama', 'adventure', 'thriller', 'action', 'comedy', 'comedy', 'action', 'drama', 'action', 'drama', 'action', 'drama', 'action', 'comedy', 'comedy', 'drama', 'drama', 'drama', 'comedy', 'drama', 'drama', 'drama', 'children', 'comedy', 'drama', 'drama', 'comedy', 'action', 'comedy', 'action', 'animation', 'action', 'action', 'crime', 'comedy', 'comedy', 'children', 'comedy', 'adventure', 'action', 'adventure', 'action', 'crime', 'animation', 'animation', 'animation', 'comedy', 'comedy', 'action', 'animation', 'crime', 'comedy', 'action', 'action', 'action', 'adventure', 'comedy', 'adventure', 'comedy', 'comedy', 'adventure', 'drama', 'action', 'action', 'animation', 'comedy', 'animation', 'action', 'comedy', 'comedy', 'comedy', 'action', 'animation', 'comedy', 'comedy', 'action', 'comedy', 'comedy', 'drama', 'drama', 'drama', 'comedy', 'crime', 'children', 'comedy', 'action', 'comedy', 'crime', 'crime', 'sci-fi', 'comedy', 'comedy', 'drama', 'drama', 'mystery', 'action', 'comedy', 'comedy', 'drama', 'film-noir', 'comedy', 'comedy', 'comedy', 'adventure', 'drama', 'drama', 'drama', 'adventure', 'drama', 'drama', 'horror', 'adventure', 'comedy', 'adventure', 'comedy', 'animation', 'animation', 'adventure', 'children', 'animation', 'adventure', 'musical', 'action', 'action', 'drama', 'comedy', 'action', 'action', 'drama', 'comedy', 'thriller', 'children', 'comedy', 'comedy', 'comedy', 'crime', 'crime', 'drama', 'crime', 'drama', 'comedy', 'crime', 'drama', 'drama', 'drama', 'children', 'action', 'action', 'drama', 'drama', 'comedy', 'comedy', 'action', 'action', 'adventure', 'animation', 'drama', 'comedy', 'crime', 'drama', 'drama', 'drama', 'comedy', 'drama', 'action', 'action', 'action', 'fantasy', 'action', 'action', 'drama', 'adventure', 'crime', 'drama', 'action', 'action', 'film-noir', 'crime', 'horror', 'action', 'crime', 'action', 'crime', 'drama', 'adventure', 'drama', 'drama', 'comedy', 'drama', 'action', 'comedy', 'comedy', 'action', 'drama', 'comedy', 'crime', 'drama', 'comedy', 'action', 'adventure', 'crime', 'drama', 'action', 'comedy', 'comedy', 'horror', 'adventure', 'action', 'action', 'drama', 'comedy', 'drama', 'crime', 'comedy', 'adventure', 'comedy', 'drama', 'action', 'action', 'drama', 'comedy', 'animation', 'crime', 'comedy', 'action', 'comedy', 'action', 'comedy', 'drama', 'drama', 'drama', 'drama', 'children', 'action', 'comedy', 'action', 'comedy', 'horror', 'fantasy', 'thriller', 'drama', 'horror', 'horror', 'action', 'drama', 'drama', 'adventure', 'action', 'adventure', 'action', 'action', 'action', 'action', 'adventure', 'action', 'action', 'comedy', 'action', 'action', 'action', 'drama', 'comedy', 'action', 'adventure', 'comedy', 'action', 'comedy', 'crime', 'drama', 'action', 'comedy', 'comedy', 'crime', 'comedy', 'action', 'comedy', 'action', 'comedy', 'comedy', 'action', 'action', 'action', 'action', 'action', 'action', 'adventure', 'comedy', 'action', 'action', 'drama', 'action', 'action', 'action', 'horror', 'action', 'drama', 'action', 'action', 'crime', 'drama', 'drama', 'comedy', 'comedy', 'horror', 'drama', 'drama', 'comedy', 'drama', 'drama', 'action', 'drama', 'comedy', 'action', 'drama', 'comedy', 'drama', 'action', 'crime', 'comedy', 'comedy', 'adventure', 'comedy', 'sci-fi', 'comedy', 'action', 'crime', 'action', 'drama', 'action', 'comedy', 'adventure', 'adventure', 'action', 'comedy', 'comedy', 'action', 'action', 'drama', 'comedy', 'crime', 'drama', 'drama', 'action', 'drama', 'drama', 'comedy', 'drama', 'drama', 'drama', 'drama', 'comedy', 'adventure', 'comedy', 'horror', 'horror', 'horror', 'action', 'action', 'action', 'comedy', 'action', 'action', 'drama', 'adventure', 'adventure', 'action', 'animation', 'action', 'drama', 'adventure', 'crime', 'action', 'adventure', 'adventure', 'action', 'documentary', 'drama', 'drama', 'animation', 'animation', 'animation', 'adventure', 'animation', 'action', 'animation', 'comedy', 'action', 'comedy', 'comedy', 'action', 'adventure', 'children', 'comedy', 'comedy', 'animation', 'adventure', 'comedy', 'comedy', 'adventure', 'drama', 'adventure', 'action', 'comedy', 'crime', 'action', 'action', 'drama', 'horror', 'comedy', 'comedy', 'crime', 'action', 'action', 'action', 'comedy', 'drama', 'adventure', 'comedy', 'comedy', 'drama', 'comedy', 'comedy', 'crime', 'comedy', 'drama', 'romance', 'comedy', 'action', 'adventure', 'comedy', 'action', 'comedy', 'comedy', 'comedy', 'adventure', 'crime', 'action', 'animation', 'comedy', 'comedy', 'action', 'action', 'action', 'comedy', 'action', 'action', 'drama', 'action', 'comedy', 'comedy', 'action', 'horror', 'comedy', 'drama', 'crime', 'adventure', 'action', 'comedy', 'comedy', 'action', 'drama', 'comedy', 'action', 'action', 'comedy', 'drama', 'comedy', 'action', 'comedy', 'comedy', 'comedy', 'comedy', 'action', 'crime', 'action', 'action', 'action', 'action', 'action', 'comedy', 'comedy', 'action', 'drama', 'adventure', 'crime', 'action', 'comedy', 'comedy', 'animation', 'action', 'comedy', 'thriller', 'drama', 'drama', 'action', 'comedy', 'action', 'action', 'comedy', 'action', 'drama', 'comedy', 'adventure', 'drama', 'action', 'comedy', 'comedy', 'comedy', 'comedy', 'comedy', 'children', 'action', 'comedy', 'adventure', 'adventure', 'action', 'action', 'drama', 'comedy', 'action', 'comedy', 'action', 'action', 'action', 'action', 'action', 'children', 'action', 'adventure', 'action', 'adventure', 'comedy', 'action', 'thriller', 'drama', 'action', 'comedy', 'comedy', 'adventure', 'comedy', 'comedy', 'fantasy', 'action', 'comedy', 'drama', 'drama', 'action', 'drama', 'action', 'comedy', 'action', 'adventure', 'crime', 'drama', 'drama', 'adventure', 'comedy', 'adventure', 'drama', 'comedy', 'comedy', 'drama', 'comedy', 'comedy', 'comedy', 'action', 'drama', 'comedy', 'comedy', 'action', 'adventure', 'horror', 'comedy', 'comedy', 'sci-fi', 'comedy', 'crime', 'comedy', 'drama', 'adventure', 'drama', 'drama', 'adventure', 'comedy', 'drama', 'comedy', 'comedy', 'adventure', 'horror', 'comedy', 'adventure', 'drama', 'comedy', 'drama', 'action', 'crime', 'comedy', 'action', 'drama', 'action', 'adventure', 'comedy', 'action', 'action', 'comedy', 'crime', 'action', 'action', 'action', 'action', 'action', 'action', 'action', 'animation', 'adventure', 'action', 'drama', 'comedy', 'action', 'drama', 'comedy', 'horror', 'action', 'drama', 'action', 'drama', 'comedy', 'drama', 'comedy', 'drama', 'drama', 'drama', 'action', 'children', 'drama', 'action', 'comedy', 'comedy', 'drama', 'comedy', 'adventure', 'comedy', 'drama', 'drama', 'comedy', 'adventure', 'crime', 'action', 'fantasy', 'comedy', 'horror', 'drama', 'mystery', 'drama', 'crime', 'comedy', 'action', 'action', 'action', 'adventure', 'drama', 'action', 'comedy', 'action', 'comedy', 'action', 'action', 'adventure', 'adventure', 'comedy', 'adventure', 'action', 'comedy', 'action', 'action', 'comedy', 'drama', 'adventure', 'crime', 'comedy', 'crime', 'action', 'drama', 'drama', 'adventure', 'adventure', 'action', 'crime', 'comedy', 'mystery', 'comedy', 'adventure', 'drama', 'action', 'comedy', 'drama', 'comedy', 'action', 'adventure', 'thriller', 'comedy', 'action', 'comedy', 'action', 'action', 'action', 'action', 'action', 'crime', 'comedy', 'horror', 'adventure', 'crime', 'documentary', 'comedy', 'horror', 'drama', 'adventure', 'action', 'comedy', 'action', 'comedy', 'adventure', 'crime', 'animation', 'crime', 'comedy', 'drama', 'action', 'comedy', 'comedy', 'drama', 'action', 'action', 'comedy', 'adventure', 'action', 'action', 'action', 'action', 'comedy', 'comedy', 'comedy', 'crime', 'action', 'action', 'comedy', 'adventure', 'crime', 'action', 'action', 'drama', 'action', 'drama', 'comedy', 'drama', 'action', 'action', 'action', 'adventure', 'action', 'adventure', 'comedy', 'comedy', 'comedy', 'comedy', 'documentary', 'action', 'comedy', 'action', 'action', 'comedy', 'action', 'comedy', 'comedy', 'mystery', 'horror', 'action', 'drama', 'action', 'mystery', 'drama', 'drama', 'adventure', 'adventure', 'drama', 'adventure', 'action', 'adventure', 'crime', 'action', 'action', 'action', 'action', 'comedy', 'action', 'comedy', 'action', 'comedy', 'drama', 'adventure', 'drama', 'adventure', 'action', 'action', 'comedy', 'crime', 'drama', 'crime', 'drama', 'action', 'action', 'adventure', 'comedy', 'drama', 'comedy', 'drama', 'crime', 'action', 'drama', 'action', 'action', 'animation', 'action', 'action', 'comedy', 'action', 'action', 'adventure', 'animation', 'action', 'comedy', 'crime', 'crime', 'action', 'comedy', 'drama', 'action', 'action', 'adventure', 'action', 'crime', 'crime', 'action', 'action', 'adventure', 'comedy', 'comedy', 'mystery', 'action', 'action', 'action', 'drama', 'adventure', 'action', 'drama', 'drama', 'drama']\n"
          ],
          "name": "stdout"
        }
      ]
    },
    {
      "cell_type": "code",
      "metadata": {
        "id": "wjeuLcqVR38y",
        "colab_type": "code",
        "outputId": "78b105df-507c-4b70-ac06-589ca5c24929",
        "colab": {
          "base_uri": "https://localhost:8080/",
          "height": 187
        }
      },
      "source": [
        "from collections import Counter, OrderedDict\n",
        "def count_items(l):\n",
        "    counts = Counter(l)\n",
        "    counts = sorted(counts.items(), key = lambda x: x[1], reverse = True)\n",
        "    counts = OrderedDict(counts)   \n",
        "    return counts\n",
        "    \n",
        "# Remove genres not found\n",
        "genre_counts = count_items(genres)\n",
        "list(genre_counts.items())[:10]"
      ],
      "execution_count": 0,
      "outputs": [
        {
          "output_type": "execute_result",
          "data": {
            "text/plain": [
              "[('action', 290),\n",
              " ('comedy', 270),\n",
              " ('drama', 188),\n",
              " ('adventure', 100),\n",
              " ('crime', 64),\n",
              " ('animation', 27),\n",
              " ('horror', 21),\n",
              " ('children', 14),\n",
              " ('mystery', 8),\n",
              " ('thriller', 6)]"
            ]
          },
          "metadata": {
            "tags": []
          },
          "execution_count": 50
        }
      ]
    },
    {
      "cell_type": "code",
      "metadata": {
        "id": "kv7Dc4d8L_tn",
        "colab_type": "code",
        "outputId": "4923aad9-d6e0-4609-a900-a923960ee99d",
        "colab": {
          "base_uri": "https://localhost:8080/",
          "height": 551
        }
      },
      "source": [
        "# Include 10 most popular genres\n",
        "genre_to_include = list(genre_counts.keys())[:10]\n",
        "\n",
        "idx_include = []\n",
        "genres = []\n",
        "\n",
        "for i in genre_index:\n",
        "    if list(i.values())[0] in genre_to_include:\n",
        "            idx_include.append(int(list(i.keys())[0]))\n",
        "            genres.append(list(i.values())[0].capitalize())\n",
        "            \n",
        "len(idx_include)\n",
        "\n",
        "ints, gen = pd.factorize(genres)\n",
        "gen[:5]\n",
        "plt.figure(figsize = (10, 8))\n",
        "\n",
        "plt.scatter(movie_r[idx_include, 0], movie_r[idx_include, 1], \n",
        "            c = ints, cmap = plt.cm.tab10)\n",
        "\n",
        "cbar = plt.colorbar()\n",
        "cbar.set_ticks([])\n",
        "print(gen)\n",
        "for j, lab in enumerate(gen):\n",
        "    cbar.ax.text(1, (2 * j + 1) / ((2.3) ), lab, ha='left', va='center')\n",
        "cbar.ax.set_title('Genre', loc = 'left')\n",
        "\n",
        "plt.xlabel('1'); plt.ylabel('2'); plt.title('Visualization of MOVIE Embeddings');"
      ],
      "execution_count": 0,
      "outputs": [
        {
          "output_type": "stream",
          "text": [
            "['Adventure' 'Comedy' 'Action' 'Drama' 'Crime' 'Mystery' 'Children'\n",
            " 'Animation' 'Horror' 'Thriller']\n"
          ],
          "name": "stdout"
        },
        {
          "output_type": "display_data",
          "data": {
            "image/png": "[encoded data removed]",
            "text/plain": [
              "<Figure size 720x576 with 2 Axes>"
            ]
          },
          "metadata": {
            "tags": []
          }
        }
      ]
    },
    {
      "cell_type": "code",
      "metadata": {
        "id": "JGc-f_QwPFyS",
        "colab_type": "code",
        "colab": {}
      },
      "source": [
        ""
      ],
      "execution_count": 0,
      "outputs": []
    }
  ]
}